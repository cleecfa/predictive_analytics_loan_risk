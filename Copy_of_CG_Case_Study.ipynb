{
  "nbformat": 4,
  "nbformat_minor": 0,
  "metadata": {
    "colab": {
      "provenance": [],
      "include_colab_link": true
    },
    "kernelspec": {
      "name": "python3",
      "display_name": "Python 3"
    },
    "language_info": {
      "name": "python"
    }
  },
  "cells": [
    {
      "cell_type": "markdown",
      "metadata": {
        "id": "view-in-github",
        "colab_type": "text"
      },
      "source": [
        "<a href=\"https://colab.research.google.com/github/cleecfa/predictive_analytics_loan_risk/blob/main/Copy_of_CG_Case_Study.ipynb\" target=\"_parent\"><img src=\"https://colab.research.google.com/assets/colab-badge.svg\" alt=\"Open In Colab\"/></a>"
      ]
    },
    {
      "cell_type": "markdown",
      "metadata": {
        "id": "q4d11sabY19y"
      },
      "source": [
        "# **Optimize Finding Loan Prospects Based on Customer's Payment Behavior**\n",
        "\n",
        "\n",
        "---\n",
        "\n",
        "**Background**\n",
        "> The primary threat faced by banks is credit risk. Loss of loan extended to borrowers severely disrupts the lender's cash flows, increase collection costs, and at worst can cause the lenders to go bankrupt.\n",
        "\n",
        "> The Imperial Galactic Bank (IGB) has been historically struggling with loan defaults. However, IGB has no room to take its foot off the gas. Due to recent hike in competition, they have to increase the volume of loans to survive. Furthermore, IGB's management has a mission to increase profits to support the great Emperor Palpatine’s new Death Star venture project.\n",
        "\n",
        "\n",
        "**Goal**\n",
        "\n",
        "\n",
        ">*   Investigate IGB's credit usage data to learn about attributes that are associated with late/missed payments.\n",
        "*   Build a statistical solution that IGB's management can consider and apply to future loans to reduce the probability of default.  \n",
        "\n",
        "\n",
        "**Credit Usage Data**\n",
        "\n",
        "\n",
        "> The data is privately stored in Google Drive. Only someone who has the credentials can access this Google Colab Notebook as well as the source data. \n",
        "\n",
        "**How to run the code:**\n",
        "\n",
        "1. Click Runtime, then Run All.\n",
        "2. In the output of the first cell, you will see a link for log in to access the verification code.\n",
        "3. Click the link and use the given ID / PW to log in.\n",
        "4. Click \"Allow\"\n",
        "5. Copy the verification code then enter into the \"Enter verification code:\" box.\n",
        "\n",
        "\n",
        ">*   ID: capgroupinterview1@gmail.com\n",
        ">*   PW: ********** (The password will be provided via email.)\n",
        "\n",
        "\n",
        "\n",
        "\n",
        "**Process**\n",
        "\n",
        "\n",
        "1. Data Cleaning, Merging, and Wrangling.\n",
        "2. Capital Group Case Study Questions.\n",
        "    * Exploratory Data Analysis (EDA)\n",
        "    * Data visualization\n",
        "    * Data Analysis\n",
        "3. KNN Supervised Classification Algorithm.\n",
        "\n",
        "\n",
        "\n",
        "\n",
        "\n",
        "---\n",
        "\n",
        "\n"
      ]
    },
    {
      "cell_type": "markdown",
      "metadata": {
        "id": "G8FhB90Wd0K6"
      },
      "source": [
        "# **Data Cleaning, and Wrangling**\n",
        "\n"
      ]
    },
    {
      "cell_type": "markdown",
      "metadata": {
        "id": "dZsQzpSGeVKo"
      },
      "source": [
        "**a) Load in the credit data from Google Sheet**\n",
        "\n"
      ]
    },
    {
      "cell_type": "code",
      "metadata": {
        "colab": {
          "base_uri": "https://localhost:8080/",
          "height": 381
        },
        "id": "f2sRSd9Q-e27",
        "outputId": "59dd6e98-e942-4c5e-aa01-6015ad9ddb5e"
      },
      "source": [
        "from google.colab import auth\n",
        "auth.authenticate_user()\n",
        "\n",
        "import gspread\n",
        "from oauth2client.client import GoogleCredentials\n",
        "\n",
        "gc = gspread.authorize(GoogleCredentials.get_application_default())\n",
        "\n",
        "worksheet = gc.open('credit').sheet1\n",
        "\n",
        "# get_all_values gives a list of rows.\n",
        "rows = worksheet.get_all_values()\n",
        "\n",
        "# Build a DF and convert to a proper format\n",
        "import pandas as pd\n",
        "df = pd.DataFrame.from_records(rows)\n",
        "df.head(2)"
      ],
      "execution_count": null,
      "outputs": [
        {
          "output_type": "error",
          "ename": "TypeError",
          "evalue": "ignored",
          "traceback": [
            "\u001b[0;31m---------------------------------------------------------------------------\u001b[0m",
            "\u001b[0;31mTypeError\u001b[0m                                 Traceback (most recent call last)",
            "\u001b[0;32m<ipython-input-10-e8f00d1e68df>\u001b[0m in \u001b[0;36m<cell line: 7>\u001b[0;34m()\u001b[0m\n\u001b[1;32m      5\u001b[0m \u001b[0;32mfrom\u001b[0m \u001b[0moauth2client\u001b[0m\u001b[0;34m.\u001b[0m\u001b[0mclient\u001b[0m \u001b[0;32mimport\u001b[0m \u001b[0mGoogleCredentials\u001b[0m\u001b[0;34m\u001b[0m\u001b[0;34m\u001b[0m\u001b[0m\n\u001b[1;32m      6\u001b[0m \u001b[0;34m\u001b[0m\u001b[0m\n\u001b[0;32m----> 7\u001b[0;31m \u001b[0mgc\u001b[0m \u001b[0;34m=\u001b[0m \u001b[0mgspread\u001b[0m\u001b[0;34m.\u001b[0m\u001b[0mauthorize\u001b[0m\u001b[0;34m(\u001b[0m\u001b[0mGoogleCredentials\u001b[0m\u001b[0;34m.\u001b[0m\u001b[0mget_application_default\u001b[0m\u001b[0;34m(\u001b[0m\u001b[0;34m)\u001b[0m\u001b[0;34m)\u001b[0m\u001b[0;34m\u001b[0m\u001b[0;34m\u001b[0m\u001b[0m\n\u001b[0m\u001b[1;32m      8\u001b[0m \u001b[0;34m\u001b[0m\u001b[0m\n\u001b[1;32m      9\u001b[0m \u001b[0mworksheet\u001b[0m \u001b[0;34m=\u001b[0m \u001b[0mgc\u001b[0m\u001b[0;34m.\u001b[0m\u001b[0mopen\u001b[0m\u001b[0;34m(\u001b[0m\u001b[0;34m'credit'\u001b[0m\u001b[0;34m)\u001b[0m\u001b[0;34m.\u001b[0m\u001b[0msheet1\u001b[0m\u001b[0;34m\u001b[0m\u001b[0;34m\u001b[0m\u001b[0m\n",
            "\u001b[0;32m/usr/local/lib/python3.9/dist-packages/gspread/__init__.py\u001b[0m in \u001b[0;36mauthorize\u001b[0;34m(credentials, client_class)\u001b[0m\n\u001b[1;32m     36\u001b[0m     \"\"\"\n\u001b[1;32m     37\u001b[0m \u001b[0;34m\u001b[0m\u001b[0m\n\u001b[0;32m---> 38\u001b[0;31m     \u001b[0mclient\u001b[0m \u001b[0;34m=\u001b[0m \u001b[0mclient_class\u001b[0m\u001b[0;34m(\u001b[0m\u001b[0mauth\u001b[0m\u001b[0;34m=\u001b[0m\u001b[0mcredentials\u001b[0m\u001b[0;34m)\u001b[0m\u001b[0;34m\u001b[0m\u001b[0;34m\u001b[0m\u001b[0m\n\u001b[0m\u001b[1;32m     39\u001b[0m     \u001b[0;32mreturn\u001b[0m \u001b[0mclient\u001b[0m\u001b[0;34m\u001b[0m\u001b[0;34m\u001b[0m\u001b[0m\n",
            "\u001b[0;32m/usr/local/lib/python3.9/dist-packages/gspread/client.py\u001b[0m in \u001b[0;36m__init__\u001b[0;34m(self, auth, session)\u001b[0m\n\u001b[1;32m     37\u001b[0m     \"\"\"\n\u001b[1;32m     38\u001b[0m     \u001b[0;32mdef\u001b[0m \u001b[0m__init__\u001b[0m\u001b[0;34m(\u001b[0m\u001b[0mself\u001b[0m\u001b[0;34m,\u001b[0m \u001b[0mauth\u001b[0m\u001b[0;34m,\u001b[0m \u001b[0msession\u001b[0m\u001b[0;34m=\u001b[0m\u001b[0;32mNone\u001b[0m\u001b[0;34m)\u001b[0m\u001b[0;34m:\u001b[0m\u001b[0;34m\u001b[0m\u001b[0;34m\u001b[0m\u001b[0m\n\u001b[0;32m---> 39\u001b[0;31m         \u001b[0mself\u001b[0m\u001b[0;34m.\u001b[0m\u001b[0mauth\u001b[0m \u001b[0;34m=\u001b[0m \u001b[0mconvert_credentials\u001b[0m\u001b[0;34m(\u001b[0m\u001b[0mauth\u001b[0m\u001b[0;34m)\u001b[0m\u001b[0;34m\u001b[0m\u001b[0;34m\u001b[0m\u001b[0m\n\u001b[0m\u001b[1;32m     40\u001b[0m         \u001b[0mself\u001b[0m\u001b[0;34m.\u001b[0m\u001b[0msession\u001b[0m \u001b[0;34m=\u001b[0m \u001b[0msession\u001b[0m \u001b[0;32mor\u001b[0m \u001b[0mAuthorizedSession\u001b[0m\u001b[0;34m(\u001b[0m\u001b[0mself\u001b[0m\u001b[0;34m.\u001b[0m\u001b[0mauth\u001b[0m\u001b[0;34m)\u001b[0m\u001b[0;34m\u001b[0m\u001b[0;34m\u001b[0m\u001b[0m\n\u001b[1;32m     41\u001b[0m \u001b[0;34m\u001b[0m\u001b[0m\n",
            "\u001b[0;32m/usr/local/lib/python3.9/dist-packages/gspread/utils.py\u001b[0m in \u001b[0;36mconvert_credentials\u001b[0;34m(credentials)\u001b[0m\n\u001b[1;32m     58\u001b[0m         \u001b[0;32mreturn\u001b[0m \u001b[0mcredentials\u001b[0m\u001b[0;34m\u001b[0m\u001b[0;34m\u001b[0m\u001b[0m\n\u001b[1;32m     59\u001b[0m \u001b[0;34m\u001b[0m\u001b[0m\n\u001b[0;32m---> 60\u001b[0;31m     raise TypeError(\n\u001b[0m\u001b[1;32m     61\u001b[0m         \u001b[0;34m'Credentials need to be from either oauth2client or from google-auth.'\u001b[0m\u001b[0;34m\u001b[0m\u001b[0;34m\u001b[0m\u001b[0m\n\u001b[1;32m     62\u001b[0m     )\n",
            "\u001b[0;31mTypeError\u001b[0m: Credentials need to be from either oauth2client or from google-auth."
          ]
        }
      ]
    },
    {
      "cell_type": "markdown",
      "metadata": {
        "id": "2UGzT9iufUib"
      },
      "source": [
        "**b) Move the first row to the header.**"
      ]
    },
    {
      "cell_type": "code",
      "metadata": {
        "id": "xfimmpksfcR4"
      },
      "source": [
        "credit = df.rename(columns=df.iloc[0])[1:] # Convert the first row to column names and remove the original first row\n",
        "credit.head()"
      ],
      "execution_count": null,
      "outputs": []
    },
    {
      "cell_type": "code",
      "metadata": {
        "id": "AKRQ1X56Yl-j"
      },
      "source": [
        "credit.info() # The original data is in string format. Update data types to proper formats in the next cell."
      ],
      "execution_count": null,
      "outputs": []
    },
    {
      "cell_type": "code",
      "metadata": {
        "id": "HxK8O5WWCRW2"
      },
      "source": [
        "# Update data types to numeric\n",
        "for col in ['LIMIT_BAL','SEX','EDUCATION',\t'MARRIAGE','AGE','PAY_0','PAY_2','PAY_3',\n",
        "            'PAY_4','PAY_5','PAY_6','BILL_AMT1','BILL_AMT2','BILL_AMT3','BILL_AMT4','BILL_AMT5',\t'BILL_AMT6',\t'PAY_AMT1',\t\n",
        "            'PAY_AMT2',\t'PAY_AMT3',\t'PAY_AMT4',\t'PAY_AMT5',\t'PAY_AMT6',\t'default.payment.next.month',\t'average_income']:\n",
        "  credit[col] = pd.to_numeric(credit[col])\n",
        "\n",
        "# Update to datetime\n",
        "# credit['account_creation_date']=pd.to_datetime(credit['account_creation_date'].astype(str), format='%m/%d/%Y')\n",
        "\n",
        "credit.info()"
      ],
      "execution_count": null,
      "outputs": []
    },
    {
      "cell_type": "code",
      "metadata": {
        "id": "vaiUmjiogOCf",
        "colab": {
          "base_uri": "https://localhost:8080/",
          "height": 201
        },
        "outputId": "8ffc7de8-b27c-4611-9d76-721a8a09916b"
      },
      "source": [
        "# Check any null values.\n",
        "# The data is good up to this point because there are no null values.\n",
        "credit.isnull().sum()"
      ],
      "execution_count": null,
      "outputs": [
        {
          "output_type": "error",
          "ename": "NameError",
          "evalue": "ignored",
          "traceback": [
            "\u001b[0;31m---------------------------------------------------------------------------\u001b[0m",
            "\u001b[0;31mNameError\u001b[0m                                 Traceback (most recent call last)",
            "\u001b[0;32m<ipython-input-11-25bd450f7390>\u001b[0m in \u001b[0;36m<cell line: 3>\u001b[0;34m()\u001b[0m\n\u001b[1;32m      1\u001b[0m \u001b[0;31m# Check any null values.\u001b[0m\u001b[0;34m\u001b[0m\u001b[0;34m\u001b[0m\u001b[0m\n\u001b[1;32m      2\u001b[0m \u001b[0;31m# The data is good up to this point because there are no null values.\u001b[0m\u001b[0;34m\u001b[0m\u001b[0;34m\u001b[0m\u001b[0m\n\u001b[0;32m----> 3\u001b[0;31m \u001b[0mcredit\u001b[0m\u001b[0;34m.\u001b[0m\u001b[0misnull\u001b[0m\u001b[0;34m(\u001b[0m\u001b[0;34m)\u001b[0m\u001b[0;34m.\u001b[0m\u001b[0msum\u001b[0m\u001b[0;34m(\u001b[0m\u001b[0;34m)\u001b[0m\u001b[0;34m\u001b[0m\u001b[0;34m\u001b[0m\u001b[0m\n\u001b[0m",
            "\u001b[0;31mNameError\u001b[0m: name 'credit' is not defined"
          ]
        }
      ]
    },
    {
      "cell_type": "markdown",
      "metadata": {
        "id": "YktWUxPAhZXa"
      },
      "source": [
        "**c) Update column names**"
      ]
    },
    {
      "cell_type": "code",
      "metadata": {
        "id": "C5z3DgYihiEl"
      },
      "source": [
        "# For consistency with other sequential cols, update PAY_0 to PAY_1.\n",
        "# Simplify the default.payment.next.month column. \n",
        "credit = credit.rename({'PAY_0': 'PAY_1', 'default.payment.next.month': 'def'}, axis=1)\n",
        "# credit['def'] = credit['default'] #Adding 'def because there is a conflict using 'default' in SQL later ..\n",
        "credit.head(2)"
      ],
      "execution_count": null,
      "outputs": []
    },
    {
      "cell_type": "markdown",
      "metadata": {
        "id": "6nAJIPvBWDTG"
      },
      "source": [
        "**d) Handle Data Anomalies**"
      ]
    },
    {
      "cell_type": "code",
      "metadata": {
        "id": "JcLqzs88WPBs"
      },
      "source": [
        "# EDUCATION Field\n",
        "# 0, 5, 6 that are not inconsistent with the field definition provided in the case study guideline. I will consider them to be 4 = \"others\" as well.\n",
        "print('Original EDUCATION Field:', credit['EDUCATION'].unique())\n",
        "# Update the Education Field\n",
        "credit.loc[(credit['EDUCATION'] == 0) | (credit['EDUCATION'] == 5) | (credit['EDUCATION'] == 6), 'EDUCATION'] = 4\n",
        "print('New EDUCATION Field:', credit['EDUCATION'].unique(), 'where 4 = others')"
      ],
      "execution_count": null,
      "outputs": []
    },
    {
      "cell_type": "code",
      "metadata": {
        "id": "XkNoILgSevL-"
      },
      "source": [
        "# MARRIAGE Field\n",
        "# There is also 0 in the dataset that's not mentioned in the case study guideline. I will consider it to be 3 = \"others\"  as well.\n",
        "print('Original MARRIAGE Field:', credit['MARRIAGE'].unique())\n",
        "credit.loc[credit['MARRIAGE']==0, 'MARRIAGE'] = 3\n",
        "print('New MARRIAGE Field:', credit['MARRIAGE'].unique(), 'where 3 = others')\n"
      ],
      "execution_count": null,
      "outputs": []
    },
    {
      "cell_type": "code",
      "metadata": {
        "id": "8_2rOOZzf_V3"
      },
      "source": [
        "# GENDER\n",
        "# I believe the GENDER Field is the SEX column in the dataset.\n",
        "credit['SEX'].unique() # Looks like this is consistent with the description."
      ],
      "execution_count": null,
      "outputs": []
    },
    {
      "cell_type": "code",
      "metadata": {
        "id": "B9pYwl2aiyhd"
      },
      "source": [
        "# PAY_X\n",
        "# This is the most important field to fix. I see 0 and -2 with the question mark in the in the case study guideline. \n",
        "# *** Assumption: *** For this case study, I will assume that these are also indicating paid on time.\n",
        "print('Original PAY_1 Field:', credit['PAY_1'].unique())\n",
        "credit.loc[(credit['PAY_1'] == 0) | (credit['PAY_1'] == -2), 'PAY_1'] = -1\n",
        "print('New PAY_1 Field:', credit['PAY_1'].unique(), 'where 0 and -2 are deemed paid duly')\n",
        "\n",
        "# Do the same thing for other PAY columns\n",
        "credit.loc[(credit['PAY_1'] == 0) | (credit['PAY_1'] == -2), 'PAY_1'] = -1\n",
        "credit.loc[(credit['PAY_2'] == 0) | (credit['PAY_2'] == -2), 'PAY_2'] = -1\n",
        "credit.loc[(credit['PAY_3'] == 0) | (credit['PAY_3'] == -2), 'PAY_3'] = -1\n",
        "credit.loc[(credit['PAY_4'] == 0) | (credit['PAY_4'] == -2), 'PAY_4'] = -1\n",
        "credit.loc[(credit['PAY_5'] == 0) | (credit['PAY_5'] == -2), 'PAY_5'] = -1\n",
        "credit.loc[(credit['PAY_6'] == 0) | (credit['PAY_6'] == -2), 'PAY_6'] = -1"
      ],
      "execution_count": null,
      "outputs": []
    },
    {
      "cell_type": "markdown",
      "metadata": {
        "id": "n7usDa5TpnYf"
      },
      "source": [
        "\n",
        "\n",
        "```\n",
        "# This is formatted as code\n",
        "```\n",
        "\n",
        "# Assumptions on the default column\n",
        "After investigating this column by comparing it to the PAY_X columns, I don't believe the default column implies actual default status on any of the previously billed amounts. For example, ID 1033 has all bill amounts duly paid but the default column still shows default.\n",
        "\n",
        "![default column.png](data:image/png;base64,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)\n",
        "\n",
        "Since the original column name \"default.payment.next.month\" says \"next month\", I will assume this column indicates the payment status on the following month which is October. This column will be my dependent variable in this case study."
      ]
    },
    {
      "cell_type": "markdown",
      "metadata": {
        "id": "edF-FZmlPXDs"
      },
      "source": [
        "**e) Overall Default Rate for the next month (October)**"
      ]
    },
    {
      "cell_type": "code",
      "metadata": {
        "id": "K1xLV3brPZoH"
      },
      "source": [
        "display(\"Overall default rate:\")\n",
        "display(str(credit['def'].sum()/credit['def'].count()) + \"%\")"
      ],
      "execution_count": null,
      "outputs": []
    },
    {
      "cell_type": "markdown",
      "metadata": {
        "id": "au4jTTFXo03l"
      },
      "source": [
        "# **Capital Group Case Study**"
      ]
    },
    {
      "cell_type": "markdown",
      "metadata": {
        "id": "Q61u73lQZigw"
      },
      "source": [
        "## **Question 1**\n",
        "How would you define a target variable “default” to measure late payments? Please explain.\n",
        "\n",
        "\n",
        "---\n",
        "\n",
        "**Answer:** The target variable is the variable whose values are to be modeled by other variables called independent variables. The target variable must carry all the information that summarizes the outcome we would like to predict from the model. In our case, the goal is to minimize the likelihood of future defaults. Therefore, knowing the exact definition of “default” is very important. Unfortunately, the description of the default field in the case study guideline only provides basic information “default (Yes=1, No=0)”. This field can be translated to many different notions. For example, it could mean any historical missed payments, any historical insufficient payment, or default on the next payment and etc. The actual data does not convince me whether I should use any other column as the Target variable other than the default column. Especially, when I am not convinced to use the PAY_X columns as my target variable (The reasons are given in my answer to the question #2).  \n",
        "The default column name (column Y) in the actual data shows “default.payment.next.month” which implies the status of payment in the next month which is October. I would use this column as my target variable because we are interested in knowing the probability of default in the future.\n"
      ]
    },
    {
      "cell_type": "markdown",
      "metadata": {
        "id": "x6h42Il3aEV4"
      },
      "source": [
        "## **Question 2**\n",
        "Do you have other ways to define it? What are the pros and cons for these different definitions?\n",
        "\n",
        "\n",
        "---\n",
        "\n",
        "**Answer:** Alternative ways to define the target variable:\n",
        "\n",
        "\n",
        "\n",
        "*   Any historical missed payments defined as default\n",
        "*   Any historical insufficient payments defined as default \n",
        "\n",
        "\n",
        "The main advantage of this method is that it provides larger sample sizes (using a single default column only VS. using all PAY_X columns). It also provides more stories (just being classified as default VS. how much default). This way of defining the target variable, however, requires accuracy in BILL_AMT and PAY_AMT columns. Unfortunately, I have found that the relationship between the values of BILL_AMT and PAY_AMT columns are not consistent with the payment status in the PAY_X column. For example, the ID 12 shows there was a bill amount of 13668 in April, but nothing was paid in May. Which means the PAY_5 column should show a value higher than -1 because the payment was not made on time. There is also one more example which logically does not make sense. ID 599 shows PAY_0 = 2 when all of PAY_2~6  show zero. A payment cannot be delayed 2 months when there was no delay in all preceding months. There are several other examples that continue to show inconsistencies between these variables, but I am not going to list all of them here. For this reason, I would not use the second method of customarily defining the target variable using the outcomes of the relationship between the BILL_AMT and PAY_AMT. I would rather use the default column given in the credit dataset.  \n"
      ]
    },
    {
      "cell_type": "markdown",
      "metadata": {
        "id": "HQy_UhJYacwU"
      },
      "source": [
        "## **Question 3**\n",
        "Please code up the target variable, based on X6 to X11, using SQL.\n",
        "\n",
        "\n",
        "---\n",
        "\n",
        "**Answer:** Since the question requires using columns X6-X11, I will use the alternative way to define the target variable mentioned in the question 2 for this question only. Please see the SQL statement below."
      ]
    },
    {
      "cell_type": "code",
      "metadata": {
        "id": "J0iNAVUYauMx"
      },
      "source": [
        "import sqlite3 as sq\n",
        "\n",
        "# Function to run SQL\n",
        "def run_credit_sql(source_data_frame, statement):\n",
        "  source_data_frame = credit\n",
        "  run_statement = statement\n",
        "\n",
        "  sql_data = 'D:\\\\credit.sqlite'\n",
        "  conn = sq.connect(sql_data)\n",
        "  cur = conn.cursor()\n",
        "  cur.execute('''DROP TABLE IF EXISTS credit''')\n",
        "  source_data_frame.to_sql('credit_sql', conn, if_exists='replace', index=False) # Write the source_data_frame to SQLIte Database\n",
        "  output_in_df = pd.read_sql(run_statement, conn)\n",
        "  conn.commit()\n",
        "  conn.close()\n",
        "  display(output_in_df)\n",
        "\n",
        "q3_answer = '''\n",
        "SELECT\n",
        "ID,\n",
        "(CASE WHEN  BILL_AMT6 > PAY_AMT5 OR BILL_AMT5 > PAY_AMT4 OR BILL_AMT4 > PAY_AMT3 OR BILL_AMT3 > PAY_AMT2 OR BILL_AMT2 > PAY_AMT1 THEN 1 ELSE 0 END) AS default_in_any_period\n",
        "FROM credit_sql;\n",
        "'''\n",
        "\n",
        "run_credit_sql(credit, q3_answer)"
      ],
      "execution_count": null,
      "outputs": []
    },
    {
      "cell_type": "markdown",
      "metadata": {
        "id": "LAV5JFpMI4xH"
      },
      "source": [
        "## **Question 4**\n",
        "Please bin age (X5) into different bins with SQL and describe why you choose the binning method.\n",
        "\n",
        "\n",
        "---\n",
        "\n",
        "**Answer:** I binned the data (Please see the SQL query below) based on the \n",
        "25%, 50%, 75% percentile of the AGE values in our dataset.(Please see the supporting views in the following cells.) These bins are then labeled as Younger_Millennials, Older_Millennials, Gen_X, and Baby_Boomers, respectively. \n",
        "\n",
        "The reason why I chose this method is because it's not too narrow or wide. I believe the four major demographic age groups well represent the entire potential bank customers who are older than the age of 18. If I use age bins that are too wide, it can potentially hide important details about the distribution. If I use bins that are too narrow, it may draw my attention to the data noise, not to the important information about the distribution.\n",
        "\n",
        "Interestingly, the age bins driven by percentile results similar bin sizes to the financial demographic cohorts defined in the [study done by CNBC](https://www.cnbc.com/2018/08/20/how-much-debt-americans-have-at-every-age.html) using the actual personal financial data from Northwestern Mutual.\n",
        "\n",
        "Note: **Additional Answer in the code output below.**"
      ]
    },
    {
      "cell_type": "code",
      "metadata": {
        "id": "W6HgoGAKJeg2"
      },
      "source": [
        "q4_answer = '''SELECT age_range_bins FROM\n",
        "(\n",
        " SELECT CASE \n",
        " WHEN AGE BETWEEN 18 AND 24 THEN 'Younger_Millennials'\n",
        " WHEN AGE BETWEEN 25 AND 34 THEN 'Older_Millennials'\n",
        " WHEN AGE BETWEEN 35 AND 49 THEN 'Gen_X'\n",
        " WHEN AGE BETWEEN 50 AND 80 THEN 'Baby_Boomers'\n",
        " END AS age_range_bins\n",
        " FROM credit_sql\n",
        ") t\n",
        "GROUP BY age_range_bins\n",
        "ORDER BY age_range_bins;'''\n",
        "\n",
        "display(\"*\" * 200)\n",
        "display(\"Answer for Question 4:\")\n",
        "display(\"*\" * 200)\n",
        "display(q4_answer )\n",
        "display(\"*\" * 200)\n",
        "display(\"Output for Question 4:\")\n",
        "display(\"*\" * 200)\n",
        "run_credit_sql(credit, q4_answer)\n",
        "\n"
      ],
      "execution_count": null,
      "outputs": []
    },
    {
      "cell_type": "code",
      "metadata": {
        "id": "Ku6hdOWEa5kH"
      },
      "source": [
        "# Also create age_group in the credit dataframe to show in Python\n",
        "def generate_group_bins (age):\n",
        "        if age <= 24 :\n",
        "            return \"Younger_Millennials\"\n",
        "        elif age >= 25 and age <= 34 :\n",
        "            return \"Older_Millennials\"\n",
        "        elif age >= 35 and age <= 49 :\n",
        "            return \"Gen_X\"\n",
        "        elif age >= 50:\n",
        "            return \"Baby_Boomers\"\n",
        "        else:\n",
        "            return None\n",
        "\n",
        "credit[\"Age_group_bins\"] = credit[\"AGE\"].apply(generate_group_bins)"
      ],
      "execution_count": null,
      "outputs": []
    },
    {
      "cell_type": "markdown",
      "metadata": {
        "id": "8tXKhDJR5z97"
      },
      "source": [
        "Mid-sized Bins based on percentile - It captures the U-shape in the default distribution across different age groups. "
      ]
    },
    {
      "cell_type": "code",
      "metadata": {
        "id": "BQW-LjUecq1O"
      },
      "source": [
        "import seaborn as sns\n",
        "from matplotlib import pyplot as plt\n",
        "\n",
        "plt.figure(figsize = (15 , 8))\n",
        "sns.barplot(x = credit['Age_group_bins'], y = credit['def'], palette='ch:start=.2,rot=-.3', ci=None)\n",
        "plt.show()"
      ],
      "execution_count": null,
      "outputs": []
    },
    {
      "cell_type": "markdown",
      "metadata": {
        "id": "7ax07h2-5Ucq"
      },
      "source": [
        "Example of too wide bins - It hides the fact that the Younger Millennials tend to have high default rates. "
      ]
    },
    {
      "cell_type": "code",
      "metadata": {
        "id": "FRLDV9JQjQZ-"
      },
      "source": [
        "def get_group (age):\n",
        "        if age < 40:\n",
        "            return \"Young\"\n",
        "        elif age >= 60:\n",
        "            return \"Old\"\n",
        "        else:\n",
        "            return \"Mid\"\n",
        "\n",
        "credit[\"age_group_wide\"] = credit[\"AGE\"].apply(get_group)\n",
        "\n",
        "plt.figure(figsize = (15 , 8))\n",
        "sns.barplot(x = credit['age_group_wide'], y = credit['def'], palette='ch:start=.2,rot=-.3', ci=None)\n",
        "plt.show()"
      ],
      "execution_count": null,
      "outputs": []
    },
    {
      "cell_type": "markdown",
      "metadata": {
        "id": "-ZnupEsrW44M"
      },
      "source": [
        "## **Question 5**\n",
        "Please provide counts and average default rate for each age group using SQL.\n",
        "\n",
        "\n",
        "---\n",
        "\n",
        "\n",
        "**Answer:** "
      ]
    },
    {
      "cell_type": "code",
      "metadata": {
        "id": "aJbyjJ4MZst7"
      },
      "source": [
        "#Default Rate = number of zeros in the default column / total count of the default column\n",
        "\n",
        "q5_answer ='''\n",
        "SELECT\n",
        "  age_range_bins,\n",
        "  COUNT(*) count,\n",
        "  AVG(def) AS average_default_rate\n",
        "FROM\n",
        "  (SELECT \n",
        "  AGE,\n",
        "  (CASE \n",
        "  WHEN AGE BETWEEN 18 AND 24 THEN 'Younger_Millennials'\n",
        "  WHEN AGE BETWEEN 25 AND 34 THEN 'Older_Millennials'\n",
        "  WHEN AGE BETWEEN 35 AND 49 THEN 'Gen_X'\n",
        "  WHEN AGE BETWEEN 50 AND 80 THEN 'Baby_Boomers'\n",
        "  END) AS age_range_bins,\n",
        "  def\n",
        "  FROM credit_sql) t\n",
        "GROUP BY age_range_bins;\n",
        "'''\n",
        "\n",
        "display(\"*\" * 200)\n",
        "display(\"Answer for Question 5:\")\n",
        "display(\"*\" * 200)\n",
        "display(q5_answer )\n",
        "display(\"*\" * 200)\n",
        "display(\"Output for Question 5:\")\n",
        "display(\"*\" * 200)\n",
        "run_credit_sql(credit, q5_answer)"
      ],
      "execution_count": null,
      "outputs": []
    },
    {
      "cell_type": "markdown",
      "metadata": {
        "id": "rWnhQ-SQMoeZ"
      },
      "source": [
        "## **Question 6**\n",
        "Please compile a data dictionary given the excel.\n",
        "\n",
        "\n",
        "---\n",
        "\n",
        "\n",
        "\n",
        "**Answer:** Please find the data dictionary of the credit table [here](https://docs.google.com/spreadsheets/d/18cmIybjI27RYPea-xenkq2dz_3on3fdN2Gxj6fMHOlw/edit#gid=0)"
      ]
    },
    {
      "cell_type": "markdown",
      "metadata": {
        "id": "7brSjM3EgOCS"
      },
      "source": [
        "## **Question 7**\n",
        "Simulate cities and accounts tables. Use the given Excel as the credit table data.\n",
        "\n",
        "\n",
        "---\n",
        "\n",
        "\n",
        "**My Assumptions and Approach:** Since the two additional tables (cities and accounts) are supposed to be additional descriptive information for the records in the credit table, I would do a LEFT JOIN with the credit table (with credit table on the left side). Because the accounts table has no primary key to the cities table, I will assume that the accounts table also has a city_id which I would use to join the two tables. Below is an example of SQL query that simulates creating tables (cities and accounts) using a **SELECT statement and VALUES** for the purpose of addressing the read-only access. Please note the data I will be using for all remaining questions has been manually put together with dummy data. \n",
        "\n",
        "Additional Assumptions:\n",
        "* There are five cities which includes ‘Tatooine’ and ‘Alderaan’.\n",
        "* Every borrowers are associated with at least one city.\n",
        "* A borrower can have multiple accounts.  \n",
        "\n",
        "Please see below for the SQL Statement."
      ]
    },
    {
      "cell_type": "code",
      "metadata": {
        "id": "OZSn7d2inmul"
      },
      "source": [
        "'''SELECT credit.*, cities.*, accounts.*\n",
        "FROM credit \n",
        "LEFT JOIN (SELECT accounts.*\n",
        "FROM (VALUES (1, 39037, 'c2', ‘active', ‘2010/05/30’),\n",
        "             (2, 38831, 'c1', 'dormant', ‘2001/01/01’) -- It will be a lot longer syntax in real life where there is a lot more records. I am just simplifying it.\n",
        "     ) accounts(borrower_id, account_id, city_id, account_status, account_creation_date)\n",
        "ON credit.id = accounts.borrower_id\n",
        "LEFT JOIN (SELECT cities.*\n",
        "FROM (VALUES ('c1', Tatooine, 80000),\n",
        "             ('c2', Alderaan, '150000')\n",
        "     ) cities(city_id, city_name, , average_income)\n",
        "ON accounts.city_id = cities.city_id;\n",
        "'''"
      ],
      "execution_count": null,
      "outputs": []
    },
    {
      "cell_type": "markdown",
      "metadata": {
        "id": "wFqF8FSCd6qo"
      },
      "source": [
        "The Bank is prospecting two new cities ‘Tatooine’ and ‘Alderaan’.  For these cities estimate their likely payments: calculate 95th percentile of all payments made for all active accounts that is created between January 1st 2005 and August 30th 2005.\n",
        "\n",
        "\n",
        "---\n",
        "\n",
        "\n",
        "\n",
        "Please see below for the SQL Statement. Please note, **sqlite doesn't support** **some of the window function used in the statement**. "
      ]
    },
    {
      "cell_type": "code",
      "metadata": {
        "id": "JfjQ40wdeEOR"
      },
      "source": [
        "\"\"\"\n",
        "SELECT\n",
        "city_name,\n",
        "percentile_cont(0.95) within group (order by sum(PAY_AMT1+PAY_AMT2+PAY_AMT3+PAY_AMT4+PAY_AMT5+PAY_AMT6)) over () as Total_PAY_percentile_95\n",
        "FROM credit_sql\n",
        "WHERE account_status = 'active' \n",
        "  AND date(account_creation_date) BETWEEN '2005/01/01' AND '2005/08/30'\n",
        "  AND city_name IN ('Tatooine', 'Alderaan')\n",
        "GROUP BY city_name;\n",
        "\"\"\""
      ],
      "execution_count": null,
      "outputs": []
    },
    {
      "cell_type": "markdown",
      "metadata": {
        "id": "hmhfcl6S48jy"
      },
      "source": [
        "For each cities ‘Tatooine’ and ‘Alderaan’ and each account creation month, calculate the percentage of default for all active accounts where the default month is within 3 months of the creation month.\n",
        "\n",
        "\n",
        "---\n",
        "\n",
        "Please see below for the SQL Statement."
      ]
    },
    {
      "cell_type": "code",
      "metadata": {
        "id": "o8z-f2Qo5LLT"
      },
      "source": [
        "q7c = \"\"\"\n",
        "SELECT \n",
        "city_name,\n",
        "SUM(def) AS total_defaults,\n",
        "COUNT(def) AS total_loans,\n",
        "(SUM(def)*1.0 / COUNT(def)*1.0) * 100 AS percentage_of_default -- convered to floating point\n",
        "FROM credit_sql\n",
        "WHERE account_status = 'active' \n",
        "  AND date(account_creation_date) BETWEEN DATE(date(account_creation_date), '-3 months') AND DATE(date(account_creation_date), '+3 months')\n",
        "  AND city_name IN ('Tatooine', 'Alderaan')\n",
        "GROUP BY city_name;\n",
        "\"\"\"\n",
        "run_credit_sql(credit, q7c)"
      ],
      "execution_count": null,
      "outputs": []
    },
    {
      "cell_type": "markdown",
      "metadata": {
        "id": "beFGPGFVpCbO"
      },
      "source": [
        "# **EDA, Data Analysis, and Data Visualization**"
      ]
    },
    {
      "cell_type": "markdown",
      "metadata": {
        "id": "UHMtZhirNWs4"
      },
      "source": [
        "## **Question 8**\n",
        "Create visualizations to understand descriptive data of the Bank’s customers (Question 5) and to understand expected outlook for ‘Tatooine’ and ‘Alderaan’ (Question 7). Extra credit by using Python or R. \n",
        "\n",
        "\n",
        "---\n",
        "\n",
        "\n",
        "\n",
        "**Answer:** Please see the outputs from below cells."
      ]
    },
    {
      "cell_type": "markdown",
      "metadata": {
        "id": "v1SP4Q71WYGu"
      },
      "source": [
        "Overview of basit statistics of the independent variables."
      ]
    },
    {
      "cell_type": "code",
      "metadata": {
        "id": "Krho0fX5Wd1t"
      },
      "source": [
        "credit.describe().T"
      ],
      "execution_count": null,
      "outputs": []
    },
    {
      "cell_type": "markdown",
      "metadata": {
        "id": "caT_z6wLmz5q"
      },
      "source": [
        "Sample size: 30,000 borrowers\n"
      ]
    },
    {
      "cell_type": "markdown",
      "metadata": {
        "id": "OkkhcAh1H4_1"
      },
      "source": [
        "**Drivers for the Default Target Variable**\n",
        "\n",
        "\n",
        "---\n",
        "\n",
        "\n",
        "Correlations between potential independent variables and the defined target variable (default).\n",
        "\n",
        "\n",
        "\n"
      ]
    },
    {
      "cell_type": "code",
      "metadata": {
        "id": "O39QFw9jIC8F"
      },
      "source": [
        "import numpy as np\n",
        "from matplotlib import pyplot as plt\n",
        "import seaborn as sns\n",
        "\n",
        "f, ax = plt.subplots(figsize = (15, 15))   \n",
        "# this is to set fig size\n",
        "\n",
        "corr_mat = credit.corr() # Create corr mat calculation object\n",
        "mask = np.triu(np.ones_like(corr_mat, dtype = np.bool))\n",
        "cmap = sns.diverging_palette(900, 5, as_cmap = True)\n",
        "sns.heatmap(corr_mat,        \n",
        "            mask = mask,\n",
        "            cmap = cmap,                 # set color range of the data\n",
        "            vmax = 1,                    # affects the color range of the data\n",
        "            center = 0,                  # also affects the color range of the data\n",
        "            square = True,               \n",
        "            annot= True,                 # annotation\n",
        "            fmt=\".1f\",                   # 1 decimal place\n",
        "            linewidths = 1,              # affects line width\n",
        "            cbar_kws = {\"shrink\": 0.8})  #shrink color bar by 0.8 times"
      ],
      "execution_count": null,
      "outputs": []
    },
    {
      "cell_type": "markdown",
      "metadata": {
        "id": "TPRjo1rFSRAb"
      },
      "source": [
        "* Negative correlation between the credit limit (LIMIT_BAL) and default, the target variable (def) - Borrowers with good credit history are given higher credit limit by banks. **The higher the credit limit for a borrower, the less likely the borrower will default.** \n",
        "\n",
        "* Positive correlation between delayed payment duration in previous months (PAY_X) and the target variable (def). This implies **the longer the payment delayed in previous months, the more likely the borrower will default in the following month.** \n",
        "\n",
        "* Also, notice the correlation becomes higher as you move from PAY_6  to PAY_1. This implies the duration of delayed payment **in more recent month tends to impact the default in the following month more**.   \n"
      ]
    },
    {
      "cell_type": "code",
      "metadata": {
        "id": "HbHYGTzQqLsL"
      },
      "source": [
        "for col in credit.loc[:, ['PAY_1','PAY_2','PAY_3','PAY_4','PAY_5','PAY_6']]:\n",
        "  credit['any_delay'] = credit[col].apply(lambda x: \"previously delayed\" if x > 0 else \"never delayed\")\n",
        "\n",
        "credit['Delayed_in_Most_Recent_Month'] = credit['PAY_1'].apply(lambda x: \"Has been delayed\" if x > 0 else \"Not delayed\")\n",
        "\n",
        "\n",
        "plt.figure(figsize=(15,8))\n",
        "sns.barplot(x=credit['Delayed_in_Most_Recent_Month'], y =\"def\", data=credit, edgecolor=\".1\", \n",
        "            ci=None, \n",
        "            palette=\"YlOrBr\", \n",
        "            hue='PAY_1')\n",
        "plt.title('Default Ratio VS. Delay Status in the Most Recent Month')\n",
        "\n",
        "plt.figure(figsize=(15,8))\n",
        "sns.barplot(x=credit['any_delay'], y =\"def\", data=credit, edgecolor=\".1\", ci=None, palette=[\"#F8F3CC\",\"#7D3716\"])\n",
        "plt.title('Default Ratio VS. Any Delay In the Past')\n",
        "\n",
        "plt.show()\n",
        "\n"
      ],
      "execution_count": null,
      "outputs": []
    },
    {
      "cell_type": "markdown",
      "metadata": {
        "id": "ug8DhWKpcUk-"
      },
      "source": [
        "**Relationships Between Different Demographic Characteristics and the Default**\n",
        "\n",
        "\n",
        "---\n",
        "\n",
        "Age Group VS. Default Rate\n",
        "\n",
        "\n",
        "*   There is a **U-Shape** in the default distribution across the age groups.\n",
        "*   The Older_Millennials group **(between age of 25 and 34) shows the lowest default rate**.\n",
        "\n",
        "\n",
        "\n",
        "\n"
      ]
    },
    {
      "cell_type": "code",
      "metadata": {
        "id": "QDbCUOcz8Ocw"
      },
      "source": [
        "plt.figure(figsize = (15 , 8))\n",
        "sns.barplot(x = credit['Age_group_bins'], y = credit['def'], palette='ch:start=.2,rot=-.3', edgecolor=\".1\")\n",
        "plt.show()"
      ],
      "execution_count": null,
      "outputs": []
    },
    {
      "cell_type": "markdown",
      "metadata": {
        "id": "qmHSOKo59ysz"
      },
      "source": [
        "Other Demographic Attributes VS. Default Rate"
      ]
    },
    {
      "cell_type": "code",
      "metadata": {
        "id": "uz-S28p2_uKq"
      },
      "source": [
        "def get_gender (gender):\n",
        "        if gender == 1:\n",
        "            return \"Male\"\n",
        "        elif gender == 2:\n",
        "            return \"Female\"\n",
        "        else:\n",
        "            return None\n",
        "\n",
        "def get_education (education):\n",
        "        if education == 1:\n",
        "            return \"Graduate School\"\n",
        "        elif education == 2:\n",
        "            return \"University\"\n",
        "        elif education == 3:\n",
        "            return \"High School\"\n",
        "        else:\n",
        "            return \"Others\"\n",
        "\n",
        "def get_marital_status (m):\n",
        "        if m == 1:\n",
        "            return \"Married\"\n",
        "        elif m == 2:\n",
        "            return \"Single\"\n",
        "        elif m == 3:\n",
        "            return \"Others\"\n",
        "        else:\n",
        "            return None\n",
        "\n",
        "\n",
        "credit[\"gender_desc\"] = credit[\"SEX\"].apply(get_gender)\n",
        "credit[\"education_desc\"] = credit[\"EDUCATION\"].apply(get_education)\n",
        "credit[\"marital_status_desc\"] = credit[\"MARRIAGE\"].apply(get_marital_status)\n",
        "\n",
        "demo_ch = ['gender_desc','education_desc', 'marital_status_desc']\n",
        "\n",
        "for col in demo_ch:\n",
        "  plt.figure(figsize = (10 , 5))\n",
        "  dim_sum = credit.groupby(col).sum()['def']\n",
        "  sns.barplot(x = credit[col], y = credit['def'], data = credit, palette=\"ch:start=.2,rot=-.3\", edgecolor=\".1\")\n",
        "  plt.show()\n"
      ],
      "execution_count": null,
      "outputs": []
    },
    {
      "cell_type": "markdown",
      "metadata": {
        "id": "uqsvKVxNOe7R"
      },
      "source": [
        "\n",
        "*   Male borrowers have higher default rate than Female borrowers.\n",
        "*   Married borrowers have higher default rate than single borrowers.\n",
        "*   Borrowers with more advanced education background have lower default rate. "
      ]
    },
    {
      "cell_type": "markdown",
      "metadata": {
        "id": "ugZt7p8EryFK"
      },
      "source": [
        "**Alderaan VS. Tatooine**\n",
        "\n",
        "\n",
        "---\n",
        "There is no attribute that clearly distinguishes different outlook for these two cities. Overall, **the citizens of Alderan have slightly higher default rate (~0.5%) than the citizens of Tatooine.**\n"
      ]
    },
    {
      "cell_type": "code",
      "metadata": {
        "id": "e6jIy5jVqilv"
      },
      "source": [
        "df_cities = credit.loc[(credit['city_name'] == 'Alderaan') | (credit['city_name'] == 'Tatooine')]\n",
        "plt.figure(figsize = (10 , 5))\n",
        "sns.barplot(x = df_cities['def'], y = df_cities['city_name'], data = credit, palette=\"ch:start=.2,rot=-.3\", edgecolor=\".1\")\n",
        "plt.show()"
      ],
      "execution_count": null,
      "outputs": []
    },
    {
      "cell_type": "markdown",
      "metadata": {
        "id": "gNKWwQk2QDWb"
      },
      "source": [
        "# **Predictive Model for Future Prospecting**\n",
        "\n",
        "\n",
        "---\n",
        "Build a basic predicive model using some of the main features (independent variables). First, split the dataset to features and target. "
      ]
    },
    {
      "cell_type": "code",
      "metadata": {
        "id": "_mQuPgSKRYhM"
      },
      "source": [
        "from sklearn.model_selection import train_test_split\n",
        "\n",
        "#new dataset for machine learning, then separate independent variable from the target variable.\n",
        "credit_X = credit[['LIMIT_BAL', 'SEX', 'EDUCATION', 'MARRIAGE', 'AGE', 'PAY_1',\n",
        "       'PAY_2', 'PAY_3', 'PAY_4', 'PAY_5', 'PAY_6']] #indep\n",
        "credit_y = credit[['def']] #target\n"
      ],
      "execution_count": null,
      "outputs": []
    },
    {
      "cell_type": "markdown",
      "metadata": {
        "id": "RcGMqwzsU5hp"
      },
      "source": [
        "Split the dataset to train (80%) and test (20%). To split the labels in train and test set as they are in the original dataset,use the stratify argument."
      ]
    },
    {
      "cell_type": "code",
      "metadata": {
        "id": "mtwjUfDsVxB0"
      },
      "source": [
        "X_train, X_test, y_train, y_test = train_test_split(credit_X, credit_y,test_size=0.2, random_state=42, stratify=credit_y)"
      ],
      "execution_count": null,
      "outputs": []
    },
    {
      "cell_type": "markdown",
      "metadata": {
        "id": "rPOXBSjEV6wJ"
      },
      "source": [
        "Use a simple supervised classification model, KNN (k-nearest neighbors algorithm) to predict the target classification. Set up the KNN classifier with the value of k at 1. Then fit the model."
      ]
    },
    {
      "cell_type": "code",
      "metadata": {
        "id": "7J67_kB6Z0CH"
      },
      "source": [
        "from sklearn.neighbors import KNeighborsClassifier\n",
        "\n",
        "knn = KNeighborsClassifier(n_neighbors=1)\n",
        "knn.fit(X_train,y_train)"
      ],
      "execution_count": null,
      "outputs": []
    },
    {
      "cell_type": "markdown",
      "metadata": {
        "id": "qHZPjkWwavYH"
      },
      "source": [
        "Accuracy score at ~ 73%"
      ]
    },
    {
      "cell_type": "code",
      "metadata": {
        "id": "BPvgHczmZ6Er"
      },
      "source": [
        "knn.score(X_test,y_test)"
      ],
      "execution_count": null,
      "outputs": []
    },
    {
      "cell_type": "code",
      "metadata": {
        "id": "ZtFJkzMHbqBp"
      },
      "source": [
        "np.arange(1,9)"
      ],
      "execution_count": null,
      "outputs": []
    },
    {
      "cell_type": "markdown",
      "metadata": {
        "id": "lDZZK0__bQcB"
      },
      "source": [
        "Try to adjust the value of k to see different accuracy scores from the model."
      ]
    },
    {
      "cell_type": "code",
      "metadata": {
        "id": "ZaHqNGYUWVXf"
      },
      "source": [
        "#Place for k from 1 to 8 \n",
        "nb = np.arange(1,9)\n",
        "train_acc =np.empty(len(nb))  \n",
        "test_acc = np.empty(len(nb))\n",
        "\n",
        "for i,k in enumerate(nb):\n",
        "    knn = KNeighborsClassifier(n_neighbors=k)\n",
        "    knn.fit(X_train, y_train)\n",
        "\n",
        "    train_acc[i] = knn.score(X_train, y_train) # store arrays of accuracy scores on the training set\n",
        "    test_acc[i] = knn.score(X_test, y_test) # store arrays of accuracy scores on the test set"
      ],
      "execution_count": null,
      "outputs": []
    },
    {
      "cell_type": "code",
      "metadata": {
        "id": "xzG-nLEQWsrt"
      },
      "source": [
        "plt.title('KNN at different number of neighbors')\n",
        "plt.plot(nb, test_acc, label='Accuracy on the Training Data')\n",
        "plt.plot(nb, train_acc, label='Accuracy on the Testing Data')\n",
        "plt.legend()\n",
        "plt.xlabel('Number of K neighbors')\n",
        "plt.ylabel('Accuracy')\n",
        "plt.show()"
      ],
      "execution_count": null,
      "outputs": []
    },
    {
      "cell_type": "markdown",
      "metadata": {
        "id": "cknahHA_W4Xb"
      },
      "source": [
        "The testing accuracy is highest at k=8. Run the KNN model at k=8 again."
      ]
    },
    {
      "cell_type": "code",
      "metadata": {
        "id": "a_G0ezcBW8lS"
      },
      "source": [
        "knn = KNeighborsClassifier(n_neighbors=8)\n",
        "knn.fit(X_train,y_train)"
      ],
      "execution_count": null,
      "outputs": []
    },
    {
      "cell_type": "markdown",
      "metadata": {
        "id": "-XzMeHnudOS9"
      },
      "source": [
        "The testing accuracy improved from ~73% to ~80%."
      ]
    },
    {
      "cell_type": "code",
      "metadata": {
        "id": "_VtamluzXFz3"
      },
      "source": [
        "#Get accuracy. Note: In case of classification algorithms score method represents accuracy.\n",
        "knn.score(X_test,y_test)"
      ],
      "execution_count": null,
      "outputs": []
    },
    {
      "cell_type": "markdown",
      "metadata": {
        "id": "X7c2Jq18doIb"
      },
      "source": [
        "## How can IGB utilize this classification model?\n",
        "\n",
        "\n",
        "> This model can be used for IGB management to predict the probability of default on its existing customers. When extending additional loans to existing customers, they can feed the trained model with updated data. The model then provides a data-driven insight on how much likely the customer will default (with classification of 1 = default or 0 = not default) in the next pay period with  approximately 80% accuracy."
      ]
    }
  ]
}